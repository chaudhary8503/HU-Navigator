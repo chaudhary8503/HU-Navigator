{
  "cells": [
    {
      "cell_type": "markdown",
      "metadata": {
        "id": "hotaPIVWmJrX"
      },
      "source": [
        "Making the Graphs"
      ]
    },
    {
      "cell_type": "code",
      "execution_count": null,
      "metadata": {
        "colab": {
          "base_uri": "https://localhost:8080/"
        },
        "id": "tp5rsWoedEsD",
        "outputId": "bdc680e0-c36b-4316-c093-28cf1bd07d43"
      },
      "outputs": [
        {
          "output_type": "stream",
          "name": "stdout",
          "text": [
            "{'C-015': [('C-007', 150), ('Amphi Stairs', 18), ('Tapal Stairs', 18)], 'E-011': [('E-010', 22), ('E-012', 3)], 'E-012': [('E-011', 3), ('Ramp', 20)], 'E-002': [('Entrance Stairs', 86), ('C-001', 47), ('E-003', 7), ('Reception Stairs', 147)], 'E-010': [('E-003', 53), ('E-011', 22)], 'E-003': [('E-002', 7), ('E-010', 53)], 'C-007': [('C-004', 40), ('Tapal Stairs', 56), ('C-001', 80), ('Reception Lifts', 181), ('C-015', 150)], 'C-004': [('C-001', 40), ('C-007', 40)], 'C-001': [('Courtyard Lifts', 217), ('Reception Lifts', 101), ('E-002', 47), ('C-004', 40), ('Entrance Stairs', 45), ('C-007', 80), ('Reception Stairs', 102)], 'C-025': [('Courtyard Lifts', 94), ('Entrance Stairs', 226), ('Amphi Stairs', 159), ('Courtyard Stairs', 164)], 'Reception Stairs': [('C-001', 102), ('E-002', 147)], 'Amphi Stairs': [('C-025', 159), ('C-015', 18)], 'Entrance Stairs': [('C-001', 45), ('E-002', 86), ('C-025', 226), ('Courtyard Stairs', 109)], 'Tapal Stairs': [('C-015', 18), ('C-007', 56)], 'Ramp': [('E-012', 20)], 'Courtyard Stairs': [('Entrance Stairs', 109), ('Courtyard Lifts', 112), ('C-025', 164)], 'Courtyard Lifts': [('C-025', 94), ('C-001', 217), ('Courtyard Stairs', 112)], 'Reception Lifts': [('C-001', 101), ('C-007', 181)]}\n",
            "{'E-121': [('Amphi Stairs', 86), ('Tapal Stairs', 46)], 'C-109': [('E-101', 244), ('W-110', 103), ('W-100', 101), ('Courtyard Stairs', 61), ('Courtyard Lifts', 96), ('Tapal Stairs', 98), ('W-118', 144), ('W-111', 144), ('Entrance Stairs', 199), ('Vending Machine Stairs', 80)], 'E-101': [('Vending Machine Stairs', 260), ('Ramp', 48), ('Tapal Stairs', 250), ('C-109', 244), ('Entrance Stairs', 165)], 'E-100': [('Reception Lifts', 93), ('Reception Stairs', 64), ('Entrance Stairs', 101)], 'W-121': [('W-118', 10)], 'W-118': [('W-110', 191), ('W-100', 189), ('W-111', 18), ('C-109', 144), ('Courtyard Lifts', 184), ('Amphi Stairs', 104), ('Courtyard Stairs', 189), ('W-121', 10)], 'W-111': [('W-110', 191), ('W-100', 189), ('C-109', 144), ('Courtyard Lifts', 184), ('Amphi Stairs', 104), ('Courtyard Stairs', 189), ('W-114', 10), ('W-118', 18)], 'W-114': [('W-111', 10)], 'W-110': [('Courtyard Lifts', 17), ('Courtyard Stairs', 50), ('W-100', 22), ('W-118', 191), ('W-111', 191), ('C-109', 103)], 'W-100': [('W-110', 22), ('Courtyard Lifts', 15), ('Courtyard Stairs', 48), ('W-118', 189), ('W-111', 189), ('C-109', 101)], 'Reception Stairs': [('Entrance Stairs', 42), ('Reception Lifts', 65), ('E-100', 64)], 'Amphi Stairs': [('E-121', 86), ('W-118', 104), ('W-111', 104), ('Tapal Stairs', 86)], 'Entrance Stairs': [('E-101', 165), ('C-109', 199), ('Reception Lifts', 102), ('Reception Stairs', 42), ('E-100', 101), ('Vending Machine Stairs', 225), ('Tapal Stairs', 205)], 'Tapal Stairs': [('Amphi Stairs', 86), ('Entrance Stairs', 205), ('E-121', 46), ('C-109', 98), ('E-101', 250), ('Vending Machine Stairs', 28)], 'Ramp': [('E-101', 48)], 'Vending Machine Stairs': [('C-109', 80), ('Tapal Stairs', 28), ('Entrance Stairs', 225), ('E-101', 260)], 'Courtyard Stairs': [('Courtyard Lifts', 35), ('W-118', 189), ('W-111', 189), ('W-110', 50), ('W-100', 48), ('C-109', 61)], 'Courtyard Lifts': [('Courtyard Stairs', 35), ('W-100', 15), ('W-110', 17), ('C-109', 96), ('W-118', 184), ('W-111', 184)], 'Reception Lifts': [('Entrance Stairs', 102), ('Reception Stairs', 65), ('E-100', 93)]}\n",
            "{'W-243': [('W-242', 39), ('W-244', 20)], 'W-242': [('Vending Machine Stairs', 122), ('Courtyard Lifts', 75), ('W-243', 39)], 'W-234': [('Courtyard Lifts', 17)], 'C-200': [('Reception Lifts', 18), ('Courtyard Stairs', 133), ('Reception Stairs', 59), ('N-220', 32), ('E-215', 43)], 'N-220': [('C-200', 32), ('Courtyard Stairs', 153), ('N-219', 10)], 'N-219': [('N-220', 10)], 'E-220': [('Vending Machine Stairs', 38)], 'E-215': [('Reception Stairs', 52), ('C-200', 43)], 'E-226': [], 'W-244': [('W-243', 20)], 'Reception Stairs': [('Courtyard Stairs', 119), ('C-200', 59), ('E-215', 52)], 'Vending Machine Stairs': [('W-242', 122), ('E-220', 38), ('Courtyard Stairs', 142), ('Courtyard Lifts', 109)], 'Courtyard Stairs': [('Vending Machine Stairs', 142), ('N-220', 153), ('Courtyard Lifts', 37), ('C-200', 133), ('Reception Stairs', 119)], 'Courtyard Lifts': [('Courtyard Stairs', 37), ('Vending Machine Stairs', 109), ('W-234', 17), ('W-242', 75)], 'Reception Lifts': [('C-200', 18)]}\n",
            "{'W-321': [('Courtyard Lifts', 39)], 'W-311': [('Courtyard Lifts', 10), ('Courtyard Stairs', 60)], 'Courtyard Stairs': [('Courtyard Lifts', 60), ('W-311', 60)], 'Courtyard Lifts': [('W-321', 39), ('Courtyard Stairs', 60), ('W-311', 10)]}\n"
          ]
        }
      ],
      "source": [
        "def addNodes(G, nodes):\n",
        "    for i in nodes:\n",
        "        G[i] = []\n",
        "    return G\n",
        "\n",
        "def addEdges(G,edges,directed):\n",
        "    for i in edges:\n",
        "        num = i[0]\n",
        "        tup = tuple(i[1:])  \n",
        "        G[num].append(tup)\n",
        "    if directed==False:\n",
        "        for i in edges: \n",
        "            num = i[1]\n",
        "            tup = (i[0], i[2])\n",
        "            if num in G.keys():\n",
        "              G[num].append(tup)\n",
        "            else:\n",
        "              G[num] = []\n",
        "              G[num].append(tup) \n",
        "\n",
        "    return(G) \n",
        "#constructing nodes\n",
        "lg_lecture_rooms = ['C-015','E-011','E-012','E-002']\n",
        "gf_lecture_rooms=['E-121','C-109','E-101','E-100']\n",
        "ff_lecture_rooms = ['W-243','W-242','W-234','C-200','N-220','N-219','E-220','E-215']\n",
        "sf_lecture_rooms=['W-321']   \n",
        "lg_labs = ['E-010','E-003','C-007','C-004','C-001','C-025']\n",
        "gf_labs = ['W-121','W-118','W-111','W-114','W-110','W-100']\n",
        "ff_labs = ['E-226','W-244']\n",
        "sf_labs = ['W-311']     \n",
        "lg_staircases_and_lifts = ['Reception Stairs','Amphi Stairs','Entrance Stairs','Tapal Stairs','Ramp','Courtyard Stairs','Courtyard Lifts','Reception Lifts']\n",
        "gf_staircases_and_lifts = ['Reception Stairs','Amphi Stairs','Entrance Stairs','Tapal Stairs','Ramp','Vending Machine Stairs','Courtyard Stairs','Courtyard Lifts','Reception Lifts']\n",
        "ff_staircases_and_lifts = ['Reception Stairs','Vending Machine Stairs','Courtyard Stairs','Courtyard Lifts','Reception Lifts']\n",
        "sf_staircases_and_lifts = ['Courtyard Stairs','Courtyard Lifts']\n",
        "staircases = [('Reception Stairs',[0,1,2,3]),('Ramp',[0,1]),('Vending Machine Stairs',[1,2]),('Amphi Stairs',[0,1]),('Courtyard Stairs',[0,1,2,3]),('Tapal Stairs',[0,1])]\n",
        "lifts = [('Reception Lifts',[0,1,2,3]),('Ehsaas Lifts',[0,1,2]),('Courtyard Lifts',[0,1,2,3,4])]   \n",
        "lowerf_graph = dict() \n",
        "groundf_graph = dict() \n",
        "firstf_graph = dict() \n",
        "secondf_graph = dict()\n",
        "thirdf_graph = dict() \n",
        "#constructing edges\n",
        "ff_edges = ['W-244','W-243',20],['W-243','W-242',39],['N-219','N-220',10],['N-220','C-200',32],['N-220','Courtyard Stairs',153],['W-242','Vending Machine Stairs',122],['W-234','Courtyard Lifts',17],['W-242','Courtyard Lifts',75],['C-200','Reception Lifts',18],['Courtyard Lifts','Courtyard Stairs',37],['E-220','Vending Machine Stairs',38],['C-200','Courtyard Stairs',133],['Courtyard Stairs','Vending Machine Stairs',142],['Courtyard Lifts','Vending Machine Stairs', 109], ['C-200','Reception Stairs',59],['E-215','Reception Stairs',52],['E-215','C-200',43],['Reception Stairs','Courtyard Stairs',119]\n",
        "lg_edges = ['E-012','E-011',3],['E-002','Entrance Stairs',86] ,['E-011','E-010',22],['E-010','E-003',53],['E-003','E-002',7],['E-002','C-001',47] ,['C-015','C-007',150],['C-007','C-004',40],['C-004','C-001',40],['C-025','Courtyard Lifts',94],['C-025','Entrance Stairs',226],['C-001','Courtyard Lifts',217],['E-012','Ramp',20],['C-015','Amphi Stairs',18],['Amphi Stairs','C-025',159],['C-001','Reception Lifts',101],['Entrance Stairs','C-001',45],['C-007','Tapal Stairs',56],['Tapal Stairs','C-015',18],['Courtyard Stairs','Entrance Stairs',109],['Courtyard Stairs','Courtyard Lifts',112],['Courtyard Stairs','C-025',164],['C-007','C-001',80],['C-007','Reception Lifts',181],['Reception Stairs','C-001',102],['Reception Stairs','E-002',147]\n",
        "gf_edges =  ['W-100','W-110',22],  ['Reception Lifts','Entrance Stairs',102], ['Courtyard Stairs','Courtyard Lifts',35],['Courtyard Stairs','W-118',189],['Courtyard Stairs','W-111',189],  ['W-118','W-110',191], ['W-111','W-110',191],['W-118','W-100',189],['W-111','W-100',189],['E-101','Vending Machine Stairs',260],['E-121','Amphi Stairs',86],['W-121','W-118',10],['W-114','W-111',10],['W-118','W-111',18],['E-101','Ramp',48 ], ['C-109','E-101',244], ['W-118','C-109',144],['W-111','C-109',144],['C-109','W-110',103],['C-109','W-100',101],['W-100','Courtyard Lifts',15],['W-110','Courtyard Lifts',17],['W-110','Courtyard Stairs',50],['W-100','Courtyard Stairs',48],['C-109','Courtyard Stairs',61],['C-109','Courtyard Lifts',96],['W-118','Courtyard Lifts',184],['W-111','Courtyard Lifts',184],['E-121','Tapal Stairs',46],['C-109','Tapal Stairs',98],['E-101','Tapal Stairs',250],['Reception Lifts','Reception Stairs',65],['Reception Stairs','Entrance Stairs',42],['Entrance Stairs','E-101',165],['Entrance Stairs','C-109',199],['W-118','Amphi Stairs',104],['W-111','Amphi Stairs',104],['E-100','Reception Lifts',93],['E-100','Reception Stairs',64],['E-100','Entrance Stairs',101],['Vending Machine Stairs','C-109',80],['Vending Machine Stairs','Tapal Stairs',28],['Vending Machine Stairs','Entrance Stairs',225],['Tapal Stairs','Amphi Stairs',86],['Tapal Stairs','Entrance Stairs',205]\n",
        "sf_edges = ['W-311','Courtyard Lifts',10],['Courtyard Lifts','W-321',39],['Courtyard Lifts','Courtyard Stairs',60],['W-311','Courtyard Stairs',60]\n",
        "\n",
        "#adding nodes and edges, making an undirected graph for each floor\n",
        "addNodes(lowerf_graph,lg_lecture_rooms)\n",
        "addNodes(lowerf_graph,lg_labs) \n",
        "addNodes(lowerf_graph,lg_staircases_and_lifts)\n",
        "addEdges(lowerf_graph,lg_edges,False)\n",
        "\n",
        "addNodes(groundf_graph,gf_lecture_rooms)\n",
        "addNodes(groundf_graph,gf_labs)\n",
        "addNodes(groundf_graph,gf_staircases_and_lifts)\n",
        "addEdges(groundf_graph,gf_edges,False)\n",
        "\n",
        "addNodes(firstf_graph,ff_lecture_rooms) \n",
        "addNodes(firstf_graph,ff_labs) \n",
        "addNodes(firstf_graph,ff_staircases_and_lifts) \n",
        "addEdges(firstf_graph,ff_edges,False)\n",
        "\n",
        "addNodes(secondf_graph,sf_lecture_rooms)\n",
        "addNodes(secondf_graph,sf_labs)\n",
        "addNodes(secondf_graph,sf_staircases_and_lifts)\n",
        "addEdges(secondf_graph,sf_edges,False) \n",
        "\n",
        "print(lowerf_graph)\n",
        "print(groundf_graph)\n",
        "print(firstf_graph)\n",
        "print(secondf_graph)"
      ]
    },
    {
      "cell_type": "markdown",
      "metadata": {
        "id": "Usg3iDPf3VMw"
      },
      "source": [
        "Level Wise Dictionary"
      ]
    },
    {
      "cell_type": "code",
      "execution_count": null,
      "metadata": {
        "id": "MPxBSHER3Uxl",
        "colab": {
          "base_uri": "https://localhost:8080/"
        },
        "outputId": "a12b66d7-5c88-4032-d3c9-cc0e478cd2e4"
      },
      "outputs": [
        {
          "output_type": "stream",
          "name": "stdout",
          "text": [
            "{0: {'C-015': [('C-007', 150), ('Amphi Stairs', 18), ('Tapal Stairs', 18)], 'E-011': [('E-010', 22), ('E-012', 3)], 'E-012': [('E-011', 3), ('Ramp', 20)], 'E-002': [('Entrance Stairs', 86), ('C-001', 47), ('E-003', 7), ('Reception Stairs', 147)], 'E-010': [('E-003', 53), ('E-011', 22)], 'E-003': [('E-002', 7), ('E-010', 53)], 'C-007': [('C-004', 40), ('Tapal Stairs', 56), ('C-001', 80), ('Reception Lifts', 181), ('C-015', 150)], 'C-004': [('C-001', 40), ('C-007', 40)], 'C-001': [('Courtyard Lifts', 217), ('Reception Lifts', 101), ('E-002', 47), ('C-004', 40), ('Entrance Stairs', 45), ('C-007', 80), ('Reception Stairs', 102)], 'C-025': [('Courtyard Lifts', 94), ('Entrance Stairs', 226), ('Amphi Stairs', 159), ('Courtyard Stairs', 164)], 'Reception Stairs': [('C-001', 102), ('E-002', 147)], 'Amphi Stairs': [('C-025', 159), ('C-015', 18)], 'Entrance Stairs': [('C-001', 45), ('E-002', 86), ('C-025', 226), ('Courtyard Stairs', 109)], 'Tapal Stairs': [('C-015', 18), ('C-007', 56)], 'Ramp': [('E-012', 20)], 'Courtyard Stairs': [('Entrance Stairs', 109), ('Courtyard Lifts', 112), ('C-025', 164)], 'Courtyard Lifts': [('C-025', 94), ('C-001', 217), ('Courtyard Stairs', 112)], 'Reception Lifts': [('C-001', 101), ('C-007', 181)]}, 1: {'E-121': [('Amphi Stairs', 86), ('Tapal Stairs', 46)], 'C-109': [('E-101', 244), ('W-110', 103), ('W-100', 101), ('Courtyard Stairs', 61), ('Courtyard Lifts', 96), ('Tapal Stairs', 98), ('W-118', 144), ('W-111', 144), ('Entrance Stairs', 199), ('Vending Machine Stairs', 80)], 'E-101': [('Vending Machine Stairs', 260), ('Ramp', 48), ('Tapal Stairs', 250), ('C-109', 244), ('Entrance Stairs', 165)], 'E-100': [('Reception Lifts', 93), ('Reception Stairs', 64), ('Entrance Stairs', 101)], 'W-121': [('W-118', 10)], 'W-118': [('W-110', 191), ('W-100', 189), ('W-111', 18), ('C-109', 144), ('Courtyard Lifts', 184), ('Amphi Stairs', 104), ('Courtyard Stairs', 189), ('W-121', 10)], 'W-111': [('W-110', 191), ('W-100', 189), ('C-109', 144), ('Courtyard Lifts', 184), ('Amphi Stairs', 104), ('Courtyard Stairs', 189), ('W-114', 10), ('W-118', 18)], 'W-114': [('W-111', 10)], 'W-110': [('Courtyard Lifts', 17), ('Courtyard Stairs', 50), ('W-100', 22), ('W-118', 191), ('W-111', 191), ('C-109', 103)], 'W-100': [('W-110', 22), ('Courtyard Lifts', 15), ('Courtyard Stairs', 48), ('W-118', 189), ('W-111', 189), ('C-109', 101)], 'Reception Stairs': [('Entrance Stairs', 42), ('Reception Lifts', 65), ('E-100', 64)], 'Amphi Stairs': [('E-121', 86), ('W-118', 104), ('W-111', 104), ('Tapal Stairs', 86)], 'Entrance Stairs': [('E-101', 165), ('C-109', 199), ('Reception Lifts', 102), ('Reception Stairs', 42), ('E-100', 101), ('Vending Machine Stairs', 225), ('Tapal Stairs', 205)], 'Tapal Stairs': [('Amphi Stairs', 86), ('Entrance Stairs', 205), ('E-121', 46), ('C-109', 98), ('E-101', 250), ('Vending Machine Stairs', 28)], 'Ramp': [('E-101', 48)], 'Vending Machine Stairs': [('C-109', 80), ('Tapal Stairs', 28), ('Entrance Stairs', 225), ('E-101', 260)], 'Courtyard Stairs': [('Courtyard Lifts', 35), ('W-118', 189), ('W-111', 189), ('W-110', 50), ('W-100', 48), ('C-109', 61)], 'Courtyard Lifts': [('Courtyard Stairs', 35), ('W-100', 15), ('W-110', 17), ('C-109', 96), ('W-118', 184), ('W-111', 184)], 'Reception Lifts': [('Entrance Stairs', 102), ('Reception Stairs', 65), ('E-100', 93)]}, 2: {'W-243': [('W-242', 39), ('W-244', 20)], 'W-242': [('Vending Machine Stairs', 122), ('Courtyard Lifts', 75), ('W-243', 39)], 'W-234': [('Courtyard Lifts', 17)], 'C-200': [('Reception Lifts', 18), ('Courtyard Stairs', 133), ('Reception Stairs', 59), ('N-220', 32), ('E-215', 43)], 'N-220': [('C-200', 32), ('Courtyard Stairs', 153), ('N-219', 10)], 'N-219': [('N-220', 10)], 'E-220': [('Vending Machine Stairs', 38)], 'E-215': [('Reception Stairs', 52), ('C-200', 43)], 'E-226': [], 'W-244': [('W-243', 20)], 'Reception Stairs': [('Courtyard Stairs', 119), ('C-200', 59), ('E-215', 52)], 'Vending Machine Stairs': [('W-242', 122), ('E-220', 38), ('Courtyard Stairs', 142), ('Courtyard Lifts', 109)], 'Courtyard Stairs': [('Vending Machine Stairs', 142), ('N-220', 153), ('Courtyard Lifts', 37), ('C-200', 133), ('Reception Stairs', 119)], 'Courtyard Lifts': [('Courtyard Stairs', 37), ('Vending Machine Stairs', 109), ('W-234', 17), ('W-242', 75)], 'Reception Lifts': [('C-200', 18)]}, 3: {'W-321': [('Courtyard Lifts', 39)], 'W-311': [('Courtyard Lifts', 10), ('Courtyard Stairs', 60)], 'Courtyard Stairs': [('Courtyard Lifts', 60), ('W-311', 60)], 'Courtyard Lifts': [('W-321', 39), ('Courtyard Stairs', 60), ('W-311', 10)]}, 4: {}}\n"
          ]
        }
      ],
      "source": [
        "level_wise = dict() \n",
        "level_wise[0] = lowerf_graph\n",
        "level_wise[1] = groundf_graph\n",
        "level_wise[2] = firstf_graph\n",
        "level_wise[3] = secondf_graph \n",
        "level_wise[4] = thirdf_graph\n",
        "print(level_wise) "
      ]
    },
    {
      "cell_type": "markdown",
      "metadata": {
        "id": "44s1pOm53Oeh"
      },
      "source": [
        "Dijkstra Algorithm"
      ]
    },
    {
      "cell_type": "code",
      "execution_count": null,
      "metadata": {
        "id": "Lr4Y0aiT5wgm"
      },
      "outputs": [],
      "source": [
        "def dijkstra(G,start,end): \n",
        "  unvisited = dict()\n",
        "  final = dict()\n",
        "  for i in G:\n",
        "    unvisited[i] = 2000000000\n",
        "  unvisited[start] = 0 \n",
        "  visited = dict()\n",
        "  while unvisited:\n",
        "    minimum = min(unvisited, key=unvisited.get) \n",
        "    visited[minimum]=unvisited[minimum] \n",
        "    if minimum==end:\n",
        "      break\n",
        "    for neighbour, distance in G.get(minimum): \n",
        "      if neighbour in visited:\n",
        "        continue\n",
        "      dist = unvisited[minimum] + distance \n",
        "      if dist<unvisited[neighbour]:\n",
        "        unvisited[neighbour]=dist\n",
        "        final[neighbour] = minimum\n",
        "    del unvisited[minimum] \n",
        "\n",
        "  vertex = end\n",
        "  temp = vertex \n",
        "  \n",
        "  while vertex!=start:\n",
        "    temp += final[vertex] \n",
        "    vertex = final[vertex]\n",
        "  \n",
        "  route = [] \n",
        "  ind = 0\n",
        "  for i in range(len(temp)):\n",
        "    if ind==len(temp)-1:\n",
        "      break\n",
        "\n",
        "  result = []\n",
        "  new_str = ''\n",
        "  for i in range(len(temp)):\n",
        "    alpha = temp[i]\n",
        "    if alpha.isupper():\n",
        "      new_str += alpha \n",
        "      if i>1:\n",
        "          if temp[i-1].islower() or temp[i-1].isnumeric(): \n",
        "            update = new_str[:-1] \n",
        "            result.append(update)\n",
        "            new_str = '' \n",
        "            new_str += alpha\n",
        "    elif alpha=='-':\n",
        "      new_str += alpha\n",
        "    elif alpha == ' ':\n",
        "      new_str += alpha \n",
        "    elif alpha.isnumeric():\n",
        "      new_str += alpha\n",
        "    else:\n",
        "      new_str += alpha\n",
        "  result.append(new_str)\n",
        "          \n",
        "  result.append([dist]) \n",
        "  result.reverse() \n",
        "  return result"
      ]
    },
    {
      "cell_type": "markdown",
      "metadata": {
        "id": "VBFv07uY35HW"
      },
      "source": [
        "Landmarks and Printing the Route"
      ]
    },
    {
      "cell_type": "code",
      "execution_count": null,
      "metadata": {
        "id": "cQq0WQjzmGBn"
      },
      "outputs": [],
      "source": [
        "def landmarks(answer):\n",
        "  prominent = [['E-012','E-011','E-010','E-010','Classrooms behind Tapal'],\n",
        "               ['C-007','C-004','C-001','Labs infront of Tapal'],\n",
        "               ['C-015','Class infront of Dukaan'],\n",
        "               ['C-025','Workshop behind Amphitheater'],\n",
        "               ['E-003','E-002','Music Room'],\n",
        "               ['W-118','W-121','W-114','W-111','Labs near Water Courtyard'],\n",
        "               ['E-121','Soorty Hall'],\n",
        "               ['C-109','Class near Earth Courtyard'],\n",
        "               ['W-110','W-100','Labs near Courtyard Lifts'],\n",
        "               ['E-101','Class beside Cafe2Go'],\n",
        "               ['E-100','Classroom next to reception'],\n",
        "               ['C-200','Classroom next to Auditorium'],\n",
        "               ['N-220','N-219','Classrooms behind Reception Lift'],\n",
        "               ['W-234','Classroom next to Courtyard Lift'],\n",
        "               ['W-243','W-244','W-242','Classrooms near Baithak'],\n",
        "               ['E-220','Tariq Rafi Hall'],\n",
        "               ['E-215','Auditorium'],\n",
        "               ['W-311','Second Floor Computer Lab'],\n",
        "               ['W-321','Classroom on Second Floor'],\n",
        "               ['Tapal Stairs','Stairs infront of Cafeteria'],\n",
        "               ['Vending Machine Stairs','Stairs beside Tariq Rafi'],\n",
        "               ['Amphi Stairs','Amphi Stairs'],\n",
        "               ['Courtyard Stairs','Courtyard Stairs'],\n",
        "               ['Ramp','Cafe2Go Ramp'],\n",
        "               ['Reception Stairs','Stairs behind Reception'],\n",
        "               ['Entrance Stairs','Stairs after card turnstiles'],\n",
        "               ['Reception Lifts','Reception Lifts'],\n",
        "               ['Courtyard Lifts','Courtyard Lifts']]\n",
        "  for i in prominent:\n",
        "    for j in i: \n",
        "      if j==answer: \n",
        "        return i[-1]   \n",
        "\n",
        "  return True \n",
        "\n",
        "def print_path(shortest_path,flag): \n",
        "   final_route = [] \n",
        "   temp_route = [] \n",
        "   count = 0\n",
        "   if flag=='multi':\n",
        "    for i in range(1,len(shortest_path)):\n",
        "      if len(shortest_path[i])>5 and count==0:\n",
        "        ways = landmarks(shortest_path[i])\n",
        "        new_str = ('Take the '+ways) \n",
        "        temp_route.append(new_str)\n",
        "        count += 1\n",
        "      else:\n",
        "        ways = landmarks(shortest_path[i]) \n",
        "        if ways==True:\n",
        "          new_str = ('Go to '+shortest_path[i])\n",
        "          temp_route.append(new_str)\n",
        "        else: \n",
        "          new_str = ('Go to '+ways)\n",
        "          temp_route.append(new_str) \n",
        "\n",
        "    for i in temp_route:\n",
        "      if i not in final_route:\n",
        "        final_route.append(i) \n",
        "\n",
        "    for i in final_route:\n",
        "      print(i)\n",
        "   elif flag=='same':\n",
        "    for i in range(1,len(shortest_path)):\n",
        "      if i==1:\n",
        "        ways = landmarks(shortest_path[i])\n",
        "        new_str = ('Start from '+ways) \n",
        "        temp_route.append(new_str)\n",
        "      else:\n",
        "        ways = landmarks(shortest_path[i]) \n",
        "        if ways==True:\n",
        "          new_str = ('Go to '+shortest_path[i])\n",
        "          temp_route.append(new_str)\n",
        "        else: \n",
        "          new_str = ('Go to '+ways)\n",
        "          temp_route.append(new_str) \n",
        "\n",
        "    for i in temp_route:\n",
        "      if i not in final_route:\n",
        "        final_route.append(i) \n",
        "\n",
        "    for i in final_route:\n",
        "      print(i)"
      ]
    },
    {
      "cell_type": "markdown",
      "metadata": {
        "id": "SK-QuOOC3nk6"
      },
      "source": [
        "Implementing Dijkstra Based on Levels"
      ]
    },
    {
      "cell_type": "code",
      "execution_count": null,
      "metadata": {
        "id": "UBP1Z-2K3m-B",
        "colab": {
          "base_uri": "https://localhost:8080/"
        },
        "outputId": "e4138f97-dc9c-4b59-fbfb-4f900c6ac848"
      },
      "outputs": [
        {
          "output_type": "stream",
          "name": "stdout",
          "text": [
            "Start from Classroom on Second Floor\n",
            "Take the Courtyard Stairs\n",
            "Go to Stairs after card turnstiles\n",
            "Go to Music Room\n",
            "Go to Classrooms behind Tapal\n"
          ]
        }
      ],
      "source": [
        "def shortest_path(start_point,destination,level_wise):\n",
        "  start_level = int(start_point[2])\n",
        "  end_level = int(destination[2]) \n",
        "  if start_level==end_level:\n",
        "      same = level_wise.get(start_level) \n",
        "      answer = (dijkstra(same,start_point,destination))\n",
        "      (print_path(answer,'same')) \n",
        "  else:\n",
        "    nested = level_wise.get(start_level) \n",
        "    xyz = nested.get(start_point) \n",
        "    temp = []\n",
        "    for j in xyz:\n",
        "      ans = nested.get(j[0])\n",
        "      for k in ans:\n",
        "        if len(k[0])>5:\n",
        "          for connect in staircases:\n",
        "            if k[0]==connect[0]:\n",
        "              if int(destination[2]) in connect[1]:\n",
        "                temp.append(k) \n",
        "            \n",
        "          for connect in lifts:\n",
        "            if k[0]==connect[0]:\n",
        "              if int(destination[2]) in connect[1]:\n",
        "                temp.append(k) \n",
        "    paths = [] \n",
        "    for i in temp:\n",
        "      dest_lev = int(destination[2]) \n",
        "      ans = dijkstra(level_wise[dest_lev],i[0],destination)  \n",
        "      paths.append(ans) \n",
        "    min_idx = 0 \n",
        "    for j in range(len(paths)):\n",
        "      if paths[j][0]<paths[min_idx][0]:\n",
        "        min_idx = j\n",
        "    ways = landmarks(start_point) \n",
        "    print('Start from',ways) \n",
        "    print_path(paths[min_idx],'multi') \n",
        "\n",
        "#Test Cases\n",
        "# Same level\n",
        "#shortest_path('N-219','W-243',level_wise) \n",
        "#shortest_path('C-025','E-010',level_wise)\n",
        "\n",
        "#1 level apart\n",
        "#shortest_path('C-015','W-100',level_wise) \n",
        "#shortest_path('N-220','E-121',level_wise) \n",
        "\n",
        "#2 level apart\n",
        "#shortest_path('C-015','C-200',level_wise) \n",
        "#shortest_path('N-220','C-001',level_wise) \n",
        "\n",
        "#3 level apart \n",
        "shortest_path('W-321','E-010',level_wise) "
      ]
    }
  ],
  "metadata": {
    "colab": {
      "provenance": []
    },
    "kernelspec": {
      "display_name": "Python 3",
      "name": "python3"
    },
    "language_info": {
      "name": "python"
    }
  },
  "nbformat": 4,
  "nbformat_minor": 0
}